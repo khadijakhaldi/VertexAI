{
 "cells": [
  {
   "cell_type": "markdown",
   "id": "57568ace",
   "metadata": {},
   "source": [
    "![ga4](https://www.google-analytics.com/collect?v=2&tid=G-6VDTYWLKX6&cid=1&en=page_view&sid=1&dl=statmike%2Fvertex-ai-mlops%2F02+-+Vertex+AI+AutoML&dt=02a+-+Vertex+AI+-+AutoML+in+GCP+Console+%28no+code%29.ipynb)\n",
    "\n",
    "# 02a - Vertex AI - AutoML in GCP Console (no code)\n",
    "\n",
    "Use Vertex AI from the GCP Console for a no-code approach building a custom model with AutoML and deploy it for predictions.\n",
    "\n",
    "\n",
    "### Prerequisites:\n",
    "-  01 - BigQuery - Table Data Source\n",
    "\n",
    "### Resources:\n",
    "-  [AutoML Tabular Training Job With GCP Console](https://cloud.google.com/vertex-ai/docs/training/automl-console#tabular)\n",
    "\n",
    "### Related Training:\n",
    "-  [Tutorial for AutoML Tabular](https://cloud.google.com/vertex-ai/docs/tutorials/tabular-automl)\n",
    "\n",
    "<p align=\"center\">\n",
    "  <img alt=\"Conceptual Flow\" src=\"../architectures/overview/02_overview.png\" width=\"25%\">\n",
    "</p>\n",
    "\n",
    "\n",
    "### Conceptual Flow & Workflow\n",
    "<p align=\"center\">\n",
    "  <img alt=\"Conceptual Flow\" src=\"../architectures/slides/02a_arch.png\" width=\"70%\">\n",
    "</p>\n",
    "<p align=\"center\">\n",
    "    <img alt=\"Workflow\" src=\"../architectures/slides/02a_console.png\" width=\"70%\">\n",
    "</p>"
   ]
  },
  {
   "cell_type": "markdown",
   "id": "f5a3aa45-2ce1-4085-849f-f44c60edc71c",
   "metadata": {},
   "source": [
    "we are starting with the datsets, which linked in the tables in BigQuery/GCS, then we use autoML tables, we have tabular data (rows, cols). Then, that will create model, we are going to use the prediction service to deploy it to an endpoint, we can also use explainable AI, to explain those results more"
   ]
  },
  {
   "cell_type": "markdown",
   "id": "66e431d5",
   "metadata": {},
   "source": [
    "---\n",
    "## Create Dataset (link to BigQuery table)\n",
    "\n",
    "From the Console:\n",
    "- Go to Vertex AI\n",
    "- Selected `Datasets`\n",
    "- Select `CREATE DATASET`\n",
    "\n",
    "<img src=\"../architectures/notebooks/02a_screenshots/ds_1.png\" width=\"50%\">\n",
    "\n",
    "- Name the dataset `02a`\n",
    "- Select `Tabular` and `Regression/classification`\n",
    "    - [More on Model Types](https://cloud.google.com/vertex-ai/docs/start/automl-model-types)\n",
    "- Click `Create`\n",
    "\n",
    "<img src=\"../architectures/notebooks/02a_screenshots/ds_2.png\" width=\"50%\">\n",
    "\n",
    "- Under Select a data source pick `Select a table or view from BigQuery`\n",
    "- Enter the BigQuery path (or browse) to the prepped table created in notebook 01\n",
    "- Click `CONTINUE`\n",
    "\n",
    "<img src=\"../architectures/notebooks/02a_screenshots/ds_3.png\" width=\"50%\">\n",
    "\n",
    "- The `ANALYZE` tab for the dataset will be displayed for review:\n",
    "\n",
    "<img src=\"../architectures/notebooks/02a_screenshots/ds_4.png\" width=\"50%\">\n",
    "\n",
    "- Going back to the `Datasets` dashboard will display the registered dataset\n",
    "\n",
    "<img src=\"../architectures/notebooks/02a_screenshots/ds_5.png\" width=\"50%\">"
   ]
  },
  {
   "cell_type": "markdown",
   "id": "87433be1",
   "metadata": {},
   "source": [
    "---\n",
    "## Train Model with AutoML\n",
    "\n",
    "On The Vertex AI console, select `Training`:\n",
    "\n",
    "<img src=\"../architectures/notebooks/02a_screenshots/train_1.png\" width=\"50%\">\n",
    "\n",
    "Next to `Training` (near the top), select `CREATE`\n",
    "- For Dataset enter `02a`\n",
    "- For Objective make sure `Classification` is selected\n",
    "- Use `AutoML` for the method\n",
    "- Click `CONTINUE`\n",
    "\n",
    "<img src=\"../architectures/notebooks/02a_screenshots/train_2.png\" width=\"50%\">\n",
    "\n",
    "For `Model Details`:\n",
    "- Keep the default `Model name` which appends a datetime to the end of the dataset name\n",
    "- For `Target column` select the column to train predictions for\n",
    "- Expand `ADVANCED OPTIONS`:\n",
    "    - Select `Manual` for the Data split method\n",
    "    - Select the `splits` variables that was created in Notebook 01\n",
    "- Click `CONTINUE`\n",
    "\n",
    "<img src=\"../architectures/notebooks/02a_screenshots/train_3.png\" width=\"50%\">\n",
    "\n",
    "For `Training options`:\n",
    "- Click the `-` symbol next to any rows for variables that should be excluded from training, like the `transaction_id`\n",
    "- More on Adavanced Options:\n",
    "    - [Model Weights](https://cloud.google.com/vertex-ai/docs/datasets/prepare-tabular#weight)\n",
    "    - [Optimization Objectives](https://cloud.google.com/vertex-ai/docs/training/tabular-opt-obj)\n",
    "        - Pick AUC PR (Due to imbalance in Class)\n",
    "- Click `CONTINUE`\n",
    "\n",
    "<img src=\"../architectures/notebooks/02a_screenshots/train_4.png\" width=\"50%\">\n",
    "\n",
    "For `Compute and pricing`:\n",
    "- Enter a `Budget` of 1 node hour\n",
    "    - A guide for choosing the right amount of time can be found [here](https://cloud.google.com/vertex-ai/docs/training/automl-console#tabular) https://cloud.google.com/vertex-ai/pricing#automl_models: \n",
    "- Make sure `Enable early stopping` is toggled on\n",
    "- Click `START TRAINING`\n",
    "\n",
    "<img src=\"../architectures/notebooks/02a_screenshots/train_5.png\" width=\"50%\">\n",
    "\n",
    "Return to the Vertex AI console `Training` Menu:\n",
    "- Once the model completes training the name will be accompanied by a green check mark\n",
    "\n",
    "<img src=\"../architectures/notebooks/02a_screenshots/train_6.png\" width=\"50%\">"
   ]
  },
  {
   "cell_type": "markdown",
   "id": "1a962bf5",
   "metadata": {},
   "source": [
    "---\n",
    "## Model: Evaluate, Select, Deploy\n",
    "\n",
    "On the Vertex AI console, select `Models`\n",
    "\n",
    "<img src=\"../architectures/notebooks/02a_screenshots/model_1.png\" width=\"50%\">\n",
    "\n",
    "Select the model that was just trained - starts with `02a`:\n",
    "\n",
    "we can chnge the threshold\n",
    "- This brings up the `EVALUATE` tab for the model\n",
    "\n",
    "<img src=\"../architectures/notebooks/02a_screenshots/model_2.png\" width=\"50%\">\n",
    "\n",
    "Select the tab labeled `DEPLOY & TEST`:\n",
    "\n",
    "<img src=\"../architectures/notebooks/02a_screenshots/model_3.png\" width=\"50%\">"
   ]
  },
  {
   "cell_type": "markdown",
   "id": "af28bd96",
   "metadata": {},
   "source": [
    "---\n",
    "## Endpoint\n",
    "\n",
    "is like a web address that we can send our request to, like new transaction with all features in a row, and it would run it through this model and return back the predicted value for the target.\n",
    "We need an infrastructure to host the end point and the container that has the model and the actual logic behind it.\n",
    "\n",
    "While still on the Vetex AI `Models` section with the `DEPLOY & TEST` tab selected:\n",
    "- select `DEPLOY TO ENDPOINT`\n",
    "\n",
    "<img src=\"../architectures/notebooks/02a_screenshots/model_3.png\" width=\"50%\">\n",
    "\n",
    "In the `Deploy to endpoint` menus, complete `Define your endpoint`:\n",
    "- For Endpoint name use `02a`\n",
    "- keep defaults for location and Access\n",
    "- Select `CONTINUE`\n",
    "\n",
    "<img src=\"../architectures/notebooks/02a_screenshots/endpoint_1.png\" width=\"50%\">\n",
    "\n",
    "In the `Model settings` section:\n",
    "- Traffic split should be 100. For example if I make a better model, I can first put 10-20% of traffic against the new model and make sure its working well. Then, ramp it up to 100% and take the old model away. This is a great way to ease a model in production.\n",
    "- minimum number of computes nodes is 1\n",
    "- Logging: if we are trying to trigger events.\n",
    "- keep the remaining default values for max nodes, scaling, logging and explainability\n",
    "- Select `CONTINUE`\n",
    "\n",
    "<img src=\"../architectures/notebooks/02a_screenshots/endpoint_2.png\" width=\"50%\">\n",
    "\n",
    "In the `Model monitoring` section:\n",
    "- Toggle `Enable model monitoring for this endpoint` on\n",
    "    - for monitoring job use the name `02a`\n",
    "    - use defaults for the other menue items\n",
    "- Select `CONTINUE`\n",
    "\n",
    "<img src=\"../architectures/notebooks/02a_screenshots/endpoint_3.png\" width=\"50%\">\n",
    "\n",
    "In the `Monitoring objectives` section:\n",
    "- Select `Prediction Drift Detection` under Monitoring objective\n",
    "- Select `DEPLOY`\n",
    "\n",
    "<img src=\"../architectures/notebooks/02a_screenshots/endpoint_4.png\" width=\"50%\">\n",
    "\n",
    "Once the model is done being deployed to the endpoint, click the `Endpoints` section of Vertex AI:\n",
    "- Select the endpoint that starts with `02a`\n",
    "- Review the endpoint dashboard for the deployed model\n",
    "\n",
    "<img src=\"../architectures/notebooks/02a_screenshots/endpoint_5.png\" width=\"50%\">\n"
   ]
  },
  {
   "cell_type": "markdown",
   "id": "c43ccc17-f8fd-40cf-ae12-12fcdb5c3503",
   "metadata": {},
   "source": [
    "#### Online predictions vs Batch predictions"
   ]
  },
  {
   "cell_type": "markdown",
   "id": "24b3a755-0c1b-4925-a8dd-451d3fec6468",
   "metadata": {},
   "source": [
    "-  Online predictions: an app receiving new transaction and sent it to our model and get a response right away.\n",
    "-  Batch predictions: where we take a whole bunch of new records, maybe every night/hour, run them through the model and get predictions back."
   ]
  },
  {
   "cell_type": "markdown",
   "id": "4066f242",
   "metadata": {},
   "source": [
    "---\n",
    "## Batch\n",
    "\n",
    "In the Verex AI console select Training, click on your model, then select `Batch predict` section:\n",
    "\n",
    "\n",
    "Select `Create Batch Prediction`:\n",
    "- name the prediction `02a`\n",
    "- for model name select the model that starts with `02a`\n",
    "- for Select source, pick BigQuery table\n",
    "- provide the location of the BigQuery source table: fraud\n",
    "- for storage location pick output format of BigQuery\n",
    "- provide the project for output in BigQuery\n",
    "- select `Generate feature importance`\n",
    "- select `Enable feature attributions for this model`\n",
    "- select `CREATE`\n",
    "\n",
    "<img src=\"../architectures/notebooks/02a_screenshots/batch_2.png\" width=\"50%\">\n",
    "\n",
    "Once the batch prediction job completes it will be listed with a green checkmark under `Batch Predictions`\n",
    "\n",
    "<img src=\"../architectures/notebooks/02a_screenshots/batch_3.png\" width=\"50%\">\n",
    "\n",
    "Selecting the batch prediction job that starts with `02a` bring up the details of the prediction job\n",
    "\n",
    "<img src=\"../architectures/notebooks/02a_screenshots/batch_4.png\" width=\"50%\">\n",
    "\n",
    "Select the linked BigQuery output table next to `Export location`:\n",
    "\n",
    "<img src=\"../architectures/notebooks/02a_screenshots/batch_5.png\" width=\"50%\">"
   ]
  },
  {
   "cell_type": "markdown",
   "id": "33a23c17",
   "metadata": {},
   "source": [
    "---\n",
    "## Prediction"
   ]
  },
  {
   "cell_type": "markdown",
   "id": "a42e6c09",
   "metadata": {},
   "source": [
    "inputs:"
   ]
  },
  {
   "cell_type": "code",
   "execution_count": 14,
   "id": "baf1e84b-8051-4c36-a99a-77703ec42f67",
   "metadata": {},
   "outputs": [
    {
     "data": {
      "text/plain": [
       "'avid-streamer-396319'"
      ]
     },
     "execution_count": 14,
     "metadata": {},
     "output_type": "execute_result"
    }
   ],
   "source": [
    "project = !gcloud config get-value project\n",
    "PROJECT_ID = project[0]\n",
    "PROJECT_ID"
   ]
  },
  {
   "cell_type": "code",
   "execution_count": 15,
   "id": "190ee41c",
   "metadata": {},
   "outputs": [],
   "source": [
    "REGION = 'us-central1'\n",
    "DATANAME = 'fraud'\n",
    "NOTEBOOK = '02a'\n",
    "\n",
    "# Model Training\n",
    "VAR_TARGET = 'Class'\n",
    "VAR_OMIT = 'transaction_id' # add more variables to the string with space delimiters"
   ]
  },
  {
   "cell_type": "markdown",
   "id": "352e4abd",
   "metadata": {},
   "source": [
    "packages:"
   ]
  },
  {
   "cell_type": "code",
   "execution_count": 16,
   "id": "b08e72b7",
   "metadata": {},
   "outputs": [],
   "source": [
    "from google.cloud import aiplatform\n",
    "\n",
    "from google.cloud import bigquery\n",
    "from google.protobuf import json_format\n",
    "from google.protobuf.struct_pb2 import Value\n",
    "import json\n",
    "import numpy as np"
   ]
  },
  {
   "cell_type": "markdown",
   "id": "1b34f1cc",
   "metadata": {},
   "source": [
    "setup clients to get to vertex ai endpoint:"
   ]
  },
  {
   "cell_type": "code",
   "execution_count": 17,
   "id": "11e140b6",
   "metadata": {},
   "outputs": [],
   "source": [
    "aiplatform.init(project=PROJECT_ID, location=REGION)\n",
    "bigquery = bigquery.Client()"
   ]
  },
  {
   "cell_type": "markdown",
   "id": "50990d52",
   "metadata": {},
   "source": [
    "parameters:"
   ]
  },
  {
   "cell_type": "code",
   "execution_count": 18,
   "id": "fb5ea95d",
   "metadata": {},
   "outputs": [],
   "source": [
    "DIR = f\"temp/{NOTEBOOK}\""
   ]
  },
  {
   "cell_type": "markdown",
   "id": "51d88337",
   "metadata": {},
   "source": [
    "environment:"
   ]
  },
  {
   "cell_type": "code",
   "execution_count": 19,
   "id": "71d83e04",
   "metadata": {},
   "outputs": [],
   "source": [
    "!rm -rf {DIR}\n",
    "!mkdir -p {DIR}"
   ]
  },
  {
   "cell_type": "markdown",
   "id": "e48165db",
   "metadata": {},
   "source": [
    "### Prepare a record for prediction: instance and parameters lists"
   ]
  },
  {
   "cell_type": "markdown",
   "id": "143f8526-d8f8-4075-982c-86f43d779f59",
   "metadata": {},
   "source": [
    "go to bigQuery and pull back some test records"
   ]
  },
  {
   "cell_type": "code",
   "execution_count": 20,
   "id": "4f3de847",
   "metadata": {},
   "outputs": [],
   "source": [
    "pred = bigquery.query(query = f\"SELECT * FROM {DATANAME}.{DATANAME}_prepped WHERE splits='TEST' LIMIT 10\").to_dataframe()"
   ]
  },
  {
   "cell_type": "code",
   "execution_count": 21,
   "id": "21148cfb",
   "metadata": {},
   "outputs": [
    {
     "data": {
      "text/html": [
       "<div>\n",
       "<style scoped>\n",
       "    .dataframe tbody tr th:only-of-type {\n",
       "        vertical-align: middle;\n",
       "    }\n",
       "\n",
       "    .dataframe tbody tr th {\n",
       "        vertical-align: top;\n",
       "    }\n",
       "\n",
       "    .dataframe thead th {\n",
       "        text-align: right;\n",
       "    }\n",
       "</style>\n",
       "<table border=\"1\" class=\"dataframe\">\n",
       "  <thead>\n",
       "    <tr style=\"text-align: right;\">\n",
       "      <th></th>\n",
       "      <th>Time</th>\n",
       "      <th>V1</th>\n",
       "      <th>V2</th>\n",
       "      <th>V3</th>\n",
       "      <th>V4</th>\n",
       "      <th>V5</th>\n",
       "      <th>V6</th>\n",
       "      <th>V7</th>\n",
       "      <th>V8</th>\n",
       "      <th>V9</th>\n",
       "      <th>...</th>\n",
       "      <th>V23</th>\n",
       "      <th>V24</th>\n",
       "      <th>V25</th>\n",
       "      <th>V26</th>\n",
       "      <th>V27</th>\n",
       "      <th>V28</th>\n",
       "      <th>Amount</th>\n",
       "      <th>Class</th>\n",
       "      <th>transaction_id</th>\n",
       "      <th>splits</th>\n",
       "    </tr>\n",
       "  </thead>\n",
       "  <tbody>\n",
       "    <tr>\n",
       "      <th>0</th>\n",
       "      <td>119592</td>\n",
       "      <td>2.139741</td>\n",
       "      <td>0.245651</td>\n",
       "      <td>-2.654856</td>\n",
       "      <td>0.178287</td>\n",
       "      <td>1.336991</td>\n",
       "      <td>-0.724664</td>\n",
       "      <td>0.906032</td>\n",
       "      <td>-0.436125</td>\n",
       "      <td>-0.528015</td>\n",
       "      <td>...</td>\n",
       "      <td>-0.216033</td>\n",
       "      <td>0.345316</td>\n",
       "      <td>0.747103</td>\n",
       "      <td>0.700184</td>\n",
       "      <td>-0.123739</td>\n",
       "      <td>-0.099989</td>\n",
       "      <td>0.0</td>\n",
       "      <td>0</td>\n",
       "      <td>c1908dfc-b9fe-4329-947f-ce1d8b705ac3</td>\n",
       "      <td>TEST</td>\n",
       "    </tr>\n",
       "    <tr>\n",
       "      <th>1</th>\n",
       "      <td>129420</td>\n",
       "      <td>-0.539919</td>\n",
       "      <td>1.273124</td>\n",
       "      <td>0.987345</td>\n",
       "      <td>2.207887</td>\n",
       "      <td>0.827857</td>\n",
       "      <td>1.099094</td>\n",
       "      <td>0.154173</td>\n",
       "      <td>0.567619</td>\n",
       "      <td>-1.140350</td>\n",
       "      <td>...</td>\n",
       "      <td>-0.039536</td>\n",
       "      <td>0.308004</td>\n",
       "      <td>-1.128751</td>\n",
       "      <td>-0.291094</td>\n",
       "      <td>-0.157021</td>\n",
       "      <td>-0.031830</td>\n",
       "      <td>0.0</td>\n",
       "      <td>0</td>\n",
       "      <td>f97a4ab2-dfa3-4745-bfb5-19796e93f0c1</td>\n",
       "      <td>TEST</td>\n",
       "    </tr>\n",
       "    <tr>\n",
       "      <th>2</th>\n",
       "      <td>75176</td>\n",
       "      <td>1.235603</td>\n",
       "      <td>0.041383</td>\n",
       "      <td>0.675286</td>\n",
       "      <td>0.836279</td>\n",
       "      <td>-0.675016</td>\n",
       "      <td>-0.657342</td>\n",
       "      <td>-0.154209</td>\n",
       "      <td>-0.067491</td>\n",
       "      <td>0.602617</td>\n",
       "      <td>...</td>\n",
       "      <td>0.088164</td>\n",
       "      <td>0.396205</td>\n",
       "      <td>0.324557</td>\n",
       "      <td>0.182930</td>\n",
       "      <td>-0.017115</td>\n",
       "      <td>0.014979</td>\n",
       "      <td>0.0</td>\n",
       "      <td>0</td>\n",
       "      <td>41e4cf07-f271-45fe-babe-88af8c4a9d69</td>\n",
       "      <td>TEST</td>\n",
       "    </tr>\n",
       "    <tr>\n",
       "      <th>3</th>\n",
       "      <td>167575</td>\n",
       "      <td>1.808792</td>\n",
       "      <td>-0.632766</td>\n",
       "      <td>-0.547739</td>\n",
       "      <td>0.142396</td>\n",
       "      <td>0.222408</td>\n",
       "      <td>1.824899</td>\n",
       "      <td>-1.068149</td>\n",
       "      <td>0.721798</td>\n",
       "      <td>0.914282</td>\n",
       "      <td>...</td>\n",
       "      <td>0.262650</td>\n",
       "      <td>-1.741824</td>\n",
       "      <td>-0.606627</td>\n",
       "      <td>0.493312</td>\n",
       "      <td>0.049780</td>\n",
       "      <td>-0.075780</td>\n",
       "      <td>0.0</td>\n",
       "      <td>0</td>\n",
       "      <td>ec304a05-c031-43ab-a903-461cd394de99</td>\n",
       "      <td>TEST</td>\n",
       "    </tr>\n",
       "  </tbody>\n",
       "</table>\n",
       "<p>4 rows × 33 columns</p>\n",
       "</div>"
      ],
      "text/plain": [
       "     Time        V1        V2        V3        V4        V5        V6  \\\n",
       "0  119592  2.139741  0.245651 -2.654856  0.178287  1.336991 -0.724664   \n",
       "1  129420 -0.539919  1.273124  0.987345  2.207887  0.827857  1.099094   \n",
       "2   75176  1.235603  0.041383  0.675286  0.836279 -0.675016 -0.657342   \n",
       "3  167575  1.808792 -0.632766 -0.547739  0.142396  0.222408  1.824899   \n",
       "\n",
       "         V7        V8        V9  ...       V23       V24       V25       V26  \\\n",
       "0  0.906032 -0.436125 -0.528015  ... -0.216033  0.345316  0.747103  0.700184   \n",
       "1  0.154173  0.567619 -1.140350  ... -0.039536  0.308004 -1.128751 -0.291094   \n",
       "2 -0.154209 -0.067491  0.602617  ...  0.088164  0.396205  0.324557  0.182930   \n",
       "3 -1.068149  0.721798  0.914282  ...  0.262650 -1.741824 -0.606627  0.493312   \n",
       "\n",
       "        V27       V28  Amount  Class                        transaction_id  \\\n",
       "0 -0.123739 -0.099989     0.0      0  c1908dfc-b9fe-4329-947f-ce1d8b705ac3   \n",
       "1 -0.157021 -0.031830     0.0      0  f97a4ab2-dfa3-4745-bfb5-19796e93f0c1   \n",
       "2 -0.017115  0.014979     0.0      0  41e4cf07-f271-45fe-babe-88af8c4a9d69   \n",
       "3  0.049780 -0.075780     0.0      0  ec304a05-c031-43ab-a903-461cd394de99   \n",
       "\n",
       "   splits  \n",
       "0    TEST  \n",
       "1    TEST  \n",
       "2    TEST  \n",
       "3    TEST  \n",
       "\n",
       "[4 rows x 33 columns]"
      ]
     },
     "execution_count": 21,
     "metadata": {},
     "output_type": "execute_result"
    }
   ],
   "source": [
    "pred.head(4)"
   ]
  },
  {
   "cell_type": "markdown",
   "id": "d06bdcfb-5557-4392-8de6-0f5191ef995f",
   "metadata": {},
   "source": [
    "#### Format the data in a way that autoML will undertand"
   ]
  },
  {
   "cell_type": "markdown",
   "id": "e421ea63-f414-4c83-9fb7-01fa5a6abd5f",
   "metadata": {},
   "source": [
    " extracting the first row of the pred DataFrame as a dictionary, but it's omitting columns that are specified in VAR_OMIT and the target column class."
   ]
  },
  {
   "cell_type": "code",
   "execution_count": 22,
   "id": "15bb1d02",
   "metadata": {},
   "outputs": [
    {
     "data": {
      "text/plain": [
       "{'Time': 119592,\n",
       " 'V1': 2.13974143206254,\n",
       " 'V2': 0.24565051250681602,\n",
       " 'V3': -2.65485572436196,\n",
       " 'V4': 0.178286715236351,\n",
       " 'V5': 1.33699090034429,\n",
       " 'V6': -0.7246639980638521,\n",
       " 'V7': 0.906032324072013,\n",
       " 'V8': -0.436124936675182,\n",
       " 'V9': -0.52801525053786,\n",
       " 'V10': 0.4040441255568761,\n",
       " 'V11': 0.671436482416233,\n",
       " 'V12': 1.09175002324314,\n",
       " 'V13': 0.645989341587513,\n",
       " 'V14': 0.83703762258463,\n",
       " 'V15': -0.939859907683146,\n",
       " 'V16': -0.5514662327417371,\n",
       " 'V17': -0.5359086170901329,\n",
       " 'V18': -0.20255223674504802,\n",
       " 'V19': 0.39832598192236995,\n",
       " 'V20': -0.16098841557650598,\n",
       " 'V21': 0.29668077170407603,\n",
       " 'V22': 1.03628515668158,\n",
       " 'V23': -0.21603343812676803,\n",
       " 'V24': 0.345316055806933,\n",
       " 'V25': 0.7471034235245171,\n",
       " 'V26': 0.700184057817132,\n",
       " 'V27': -0.12373914080650501,\n",
       " 'V28': -0.0999890044385541,\n",
       " 'Amount': 0.0,\n",
       " 'splits': 'TEST'}"
      ]
     },
     "execution_count": 22,
     "metadata": {},
     "output_type": "execute_result"
    }
   ],
   "source": [
    "#newob = pred[pred.columns[~pred.columns.isin(VAR_OMIT.split()+[VAR_TARGET, 'splits'])]].to_dict(orient='records')[0]\n",
    "newob = pred[pred.columns[~pred.columns.isin(VAR_OMIT.split()+[VAR_TARGET])]].to_dict(orient='records')[0]\n",
    "newob"
   ]
  },
  {
   "cell_type": "markdown",
   "id": "5b438694",
   "metadata": {},
   "source": [
    "Need to understand the format of variables that the predictions expect.  AutoML may convert the type of some variables. The following cells retrieve the model from the endpoint and its schemata:"
   ]
  },
  {
   "cell_type": "code",
   "execution_count": 23,
   "id": "fc8f7bb2",
   "metadata": {},
   "outputs": [],
   "source": [
    "newob['Time'] = str(newob['Time'])"
   ]
  },
  {
   "cell_type": "code",
   "execution_count": 24,
   "id": "e89923ef",
   "metadata": {},
   "outputs": [],
   "source": [
    "instances = [json_format.ParseDict(newob, Value())]\n",
    "parameters = json_format.ParseDict({}, Value())"
   ]
  },
  {
   "cell_type": "code",
   "execution_count": 25,
   "id": "069ef218-063c-4caa-b5b4-46a38610154c",
   "metadata": {},
   "outputs": [
    {
     "data": {
      "text/plain": [
       "[struct_value {\n",
       "   fields {\n",
       "     key: \"Amount\"\n",
       "     value {\n",
       "       number_value: 0.0\n",
       "     }\n",
       "   }\n",
       "   fields {\n",
       "     key: \"Time\"\n",
       "     value {\n",
       "       string_value: \"119592\"\n",
       "     }\n",
       "   }\n",
       "   fields {\n",
       "     key: \"V1\"\n",
       "     value {\n",
       "       number_value: 2.13974143206254\n",
       "     }\n",
       "   }\n",
       "   fields {\n",
       "     key: \"V10\"\n",
       "     value {\n",
       "       number_value: 0.4040441255568761\n",
       "     }\n",
       "   }\n",
       "   fields {\n",
       "     key: \"V11\"\n",
       "     value {\n",
       "       number_value: 0.671436482416233\n",
       "     }\n",
       "   }\n",
       "   fields {\n",
       "     key: \"V12\"\n",
       "     value {\n",
       "       number_value: 1.09175002324314\n",
       "     }\n",
       "   }\n",
       "   fields {\n",
       "     key: \"V13\"\n",
       "     value {\n",
       "       number_value: 0.645989341587513\n",
       "     }\n",
       "   }\n",
       "   fields {\n",
       "     key: \"V14\"\n",
       "     value {\n",
       "       number_value: 0.83703762258463\n",
       "     }\n",
       "   }\n",
       "   fields {\n",
       "     key: \"V15\"\n",
       "     value {\n",
       "       number_value: -0.939859907683146\n",
       "     }\n",
       "   }\n",
       "   fields {\n",
       "     key: \"V16\"\n",
       "     value {\n",
       "       number_value: -0.5514662327417371\n",
       "     }\n",
       "   }\n",
       "   fields {\n",
       "     key: \"V17\"\n",
       "     value {\n",
       "       number_value: -0.5359086170901329\n",
       "     }\n",
       "   }\n",
       "   fields {\n",
       "     key: \"V18\"\n",
       "     value {\n",
       "       number_value: -0.20255223674504802\n",
       "     }\n",
       "   }\n",
       "   fields {\n",
       "     key: \"V19\"\n",
       "     value {\n",
       "       number_value: 0.39832598192236995\n",
       "     }\n",
       "   }\n",
       "   fields {\n",
       "     key: \"V2\"\n",
       "     value {\n",
       "       number_value: 0.24565051250681602\n",
       "     }\n",
       "   }\n",
       "   fields {\n",
       "     key: \"V20\"\n",
       "     value {\n",
       "       number_value: -0.16098841557650598\n",
       "     }\n",
       "   }\n",
       "   fields {\n",
       "     key: \"V21\"\n",
       "     value {\n",
       "       number_value: 0.29668077170407603\n",
       "     }\n",
       "   }\n",
       "   fields {\n",
       "     key: \"V22\"\n",
       "     value {\n",
       "       number_value: 1.03628515668158\n",
       "     }\n",
       "   }\n",
       "   fields {\n",
       "     key: \"V23\"\n",
       "     value {\n",
       "       number_value: -0.21603343812676803\n",
       "     }\n",
       "   }\n",
       "   fields {\n",
       "     key: \"V24\"\n",
       "     value {\n",
       "       number_value: 0.345316055806933\n",
       "     }\n",
       "   }\n",
       "   fields {\n",
       "     key: \"V25\"\n",
       "     value {\n",
       "       number_value: 0.7471034235245171\n",
       "     }\n",
       "   }\n",
       "   fields {\n",
       "     key: \"V26\"\n",
       "     value {\n",
       "       number_value: 0.700184057817132\n",
       "     }\n",
       "   }\n",
       "   fields {\n",
       "     key: \"V27\"\n",
       "     value {\n",
       "       number_value: -0.12373914080650501\n",
       "     }\n",
       "   }\n",
       "   fields {\n",
       "     key: \"V28\"\n",
       "     value {\n",
       "       number_value: -0.0999890044385541\n",
       "     }\n",
       "   }\n",
       "   fields {\n",
       "     key: \"V3\"\n",
       "     value {\n",
       "       number_value: -2.65485572436196\n",
       "     }\n",
       "   }\n",
       "   fields {\n",
       "     key: \"V4\"\n",
       "     value {\n",
       "       number_value: 0.178286715236351\n",
       "     }\n",
       "   }\n",
       "   fields {\n",
       "     key: \"V5\"\n",
       "     value {\n",
       "       number_value: 1.33699090034429\n",
       "     }\n",
       "   }\n",
       "   fields {\n",
       "     key: \"V6\"\n",
       "     value {\n",
       "       number_value: -0.7246639980638521\n",
       "     }\n",
       "   }\n",
       "   fields {\n",
       "     key: \"V7\"\n",
       "     value {\n",
       "       number_value: 0.906032324072013\n",
       "     }\n",
       "   }\n",
       "   fields {\n",
       "     key: \"V8\"\n",
       "     value {\n",
       "       number_value: -0.436124936675182\n",
       "     }\n",
       "   }\n",
       "   fields {\n",
       "     key: \"V9\"\n",
       "     value {\n",
       "       number_value: -0.52801525053786\n",
       "     }\n",
       "   }\n",
       "   fields {\n",
       "     key: \"splits\"\n",
       "     value {\n",
       "       string_value: \"TEST\"\n",
       "     }\n",
       "   }\n",
       " }]"
      ]
     },
     "execution_count": 25,
     "metadata": {},
     "output_type": "execute_result"
    }
   ],
   "source": [
    "instances"
   ]
  },
  {
   "cell_type": "markdown",
   "id": "1aeef124-c0fe-480b-a935-d87bdc4bcd14",
   "metadata": {},
   "source": [
    "### We can get predictions using Python, REST, gCloud..."
   ]
  },
  {
   "cell_type": "markdown",
   "id": "e671a9a5",
   "metadata": {},
   "source": [
    "### Get Predictions: Python Client"
   ]
  },
  {
   "cell_type": "markdown",
   "id": "7cc95d9f-fad4-4e2a-9c46-9099b8213c9b",
   "metadata": {},
   "source": [
    "Pick endpoint (the one we deployed the model on) with the same name as the notebook"
   ]
  },
  {
   "cell_type": "code",
   "execution_count": 29,
   "id": "072f0a6f",
   "metadata": {},
   "outputs": [
    {
     "data": {
      "text/plain": [
       "'02a'"
      ]
     },
     "execution_count": 29,
     "metadata": {},
     "output_type": "execute_result"
    }
   ],
   "source": [
    "endpoint = aiplatform.Endpoint.list(filter=f'display_name={NOTEBOOK}')[0]\n",
    "endpoint.display_name"
   ]
  },
  {
   "cell_type": "markdown",
   "id": "eeefa251-5296-495f-b4e6-35fbf8b63df2",
   "metadata": {},
   "source": [
    "Then we go to the endpoint, give it the instances and ask for prediction"
   ]
  },
  {
   "cell_type": "code",
   "execution_count": 31,
   "id": "b775c99f",
   "metadata": {},
   "outputs": [
    {
     "data": {
      "text/plain": [
       "Prediction(predictions=[{'classes': ['0', '1'], 'scores': [0.9998716711997986, 0.0001283169694943354]}], deployed_model_id='8602871445812412416', model_version_id='1', model_resource_name='projects/114910882374/locations/us-central1/models/1951261504372211712', explanations=None)"
      ]
     },
     "execution_count": 31,
     "metadata": {},
     "output_type": "execute_result"
    }
   ],
   "source": [
    "prediction = endpoint.predict(instances=instances, parameters=parameters)\n",
    "prediction"
   ]
  },
  {
   "cell_type": "code",
   "execution_count": 32,
   "id": "1e716973",
   "metadata": {},
   "outputs": [
    {
     "data": {
      "text/plain": [
       "'0'"
      ]
     },
     "execution_count": 32,
     "metadata": {},
     "output_type": "execute_result"
    }
   ],
   "source": [
    "prediction.predictions[0]['classes'][np.argmax(prediction.predictions[0]['scores'])]"
   ]
  },
  {
   "cell_type": "markdown",
   "id": "a0c157f2",
   "metadata": {},
   "source": [
    "### Get Predictions: REST"
   ]
  },
  {
   "cell_type": "markdown",
   "id": "6d1397cc-06fa-4f7e-a7f0-6aae4fa54a00",
   "metadata": {},
   "source": [
    "same as before, we dump the instances into a json file"
   ]
  },
  {
   "cell_type": "code",
   "execution_count": 33,
   "id": "28b310ce",
   "metadata": {},
   "outputs": [],
   "source": [
    "with open(f'{DIR}/request.json','w') as file:\n",
    "    file.write(json.dumps({\"instances\": [newob]}))"
   ]
  },
  {
   "cell_type": "code",
   "execution_count": 34,
   "id": "2041f335",
   "metadata": {},
   "outputs": [
    {
     "name": "stdout",
     "output_type": "stream",
     "text": [
      "{\n",
      "  \"predictions\": [\n",
      "    {\n",
      "      \"scores\": [\n",
      "        0.99987167119979858,\n",
      "        0.00012831696949433541\n",
      "      ],\n",
      "      \"classes\": [\n",
      "        \"0\",\n",
      "        \"1\"\n",
      "      ]\n",
      "    }\n",
      "  ],\n",
      "  \"deployedModelId\": \"8602871445812412416\",\n",
      "  \"model\": \"projects/114910882374/locations/us-central1/models/1951261504372211712\",\n",
      "  \"modelDisplayName\": \"02a\",\n",
      "  \"modelVersionId\": \"1\"\n",
      "}\n"
     ]
    }
   ],
   "source": [
    "!curl -X POST \\\n",
    "-H \"Authorization: Bearer \"$(gcloud auth application-default print-access-token) \\\n",
    "-H \"Content-Type: application/json; charset=utf-8\" \\\n",
    "-d @{DIR}/request.json \\\n",
    "https://{REGION}-aiplatform.googleapis.com/v1/{endpoint.resource_name}:predict"
   ]
  },
  {
   "cell_type": "markdown",
   "id": "71bd36ef",
   "metadata": {},
   "source": [
    "### Get Predictions: gcloud (CLI)"
   ]
  },
  {
   "cell_type": "markdown",
   "id": "7d0e7fda-1aa0-409d-a50d-689afdc62329",
   "metadata": {},
   "source": [
    "If you are in google cloud, and you wanna use the shell there (gcloud cmd)"
   ]
  },
  {
   "cell_type": "code",
   "execution_count": 35,
   "id": "ad4befbd",
   "metadata": {},
   "outputs": [
    {
     "name": "stdout",
     "output_type": "stream",
     "text": [
      "Using endpoint [https://us-central1-prediction-aiplatform.googleapis.com/]\n",
      "[{'classes': ['0', '1'], 'scores': [0.9998716711997986, 0.0001283169694943354]}]\n"
     ]
    }
   ],
   "source": [
    "!gcloud beta ai endpoints predict {endpoint.name.rsplit('/',1)[-1]} --region={REGION} --json-request={DIR}/request.json"
   ]
  },
  {
   "cell_type": "markdown",
   "id": "030bbd84",
   "metadata": {},
   "source": [
    "---\n",
    "## Explanations\n",
    "\n",
    "It gives the ability to undertand the prediction and what factors play a role in defining those predictions\n",
    "\n",
    "Interpretation Guide\n",
    "- https://cloud.google.com/vertex-ai/docs/predictions/interpreting-results-automl#tabular"
   ]
  },
  {
   "cell_type": "code",
   "execution_count": 38,
   "id": "81348d83",
   "metadata": {},
   "outputs": [],
   "source": [
    "explanation = endpoint.explain(instances=instances, parameters=parameters)"
   ]
  },
  {
   "cell_type": "markdown",
   "id": "23056ef5-1654-483b-b9bf-cd41a63336d7",
   "metadata": {},
   "source": [
    "The explanations include predictions and explanations.\n",
    "\n",
    "for example if our client have low credit score, we may want to show them the reason behind that, which features made his score low.\n"
   ]
  },
  {
   "cell_type": "code",
   "execution_count": 39,
   "id": "a2e142ff",
   "metadata": {},
   "outputs": [
    {
     "data": {
      "text/plain": [
       "[{'classes': ['0', '1'],\n",
       "  'scores': [0.9998716711997986, 0.0001283169694943354]}]"
      ]
     },
     "execution_count": 39,
     "metadata": {},
     "output_type": "execute_result"
    }
   ],
   "source": [
    "explanation.predictions"
   ]
  },
  {
   "cell_type": "code",
   "execution_count": 40,
   "id": "33621b6f",
   "metadata": {},
   "outputs": [
    {
     "name": "stdout",
     "output_type": "stream",
     "text": [
      "attribution:\n",
      "baseline output 0.9998843669891357\n",
      "instance output 0.9998716711997986\n",
      "output_index [0]\n",
      "output display value 0\n",
      "approximation error 0.004402471924827503\n"
     ]
    }
   ],
   "source": [
    "print(\"attribution:\")\n",
    "print(\"baseline output\",explanation.explanations[0].attributions[0].baseline_output_value)\n",
    "print(\"instance output\",explanation.explanations[0].attributions[0].instance_output_value)\n",
    "print(\"output_index\",explanation.explanations[0].attributions[0].output_index)\n",
    "print(\"output display value\",explanation.explanations[0].attributions[0].output_display_name)\n",
    "print(\"approximation error\",explanation.explanations[0].attributions[0].approximation_error)"
   ]
  },
  {
   "cell_type": "markdown",
   "id": "29e9b850-a25e-4765-b6cd-09f7853b490d",
   "metadata": {},
   "source": [
    "### Feature attributions "
   ]
  },
  {
   "cell_type": "markdown",
   "id": "65a1bfb3-aa7c-4f5b-a81e-4e57b08e528b",
   "metadata": {},
   "source": [
    "For a given prediction, feature attributions tell you how much each feature in the input contributed to the prediction. This can help you understand which features are most influential for a particular prediction.\n",
    "\n",
    "1.  The first step is to choose a baseline input. This input represents a \"neutral\" or \"default\" state. The idea is to understand how the features of the given input, when changed from the baseline, influence the prediction.\n",
    "Vertex AI uses by default the median as baseline for numerical features and the mode for categorical features\n",
    "2.  For a given prediction, Vertex AI can use the Sampled Shapley/integrated gradients methods to determine how much each input feature contributed to that prediction. The result is a set of values, one for each feature, indicating its contribution.\n",
    "\n",
    "3.  Positive Shapley values indicate that a feature increased the model's output compared to the baseline, while negative values indicate a decrease. The magnitude tells you the strength of that feature's influence.\n"
   ]
  },
  {
   "cell_type": "code",
   "execution_count": 41,
   "id": "7a1d220f-0174-481a-a206-c7a6819015f4",
   "metadata": {},
   "outputs": [
    {
     "data": {
      "image/png": "[encoded data removed]",
      "text/plain": [
       "<Figure size 900x900 with 1 Axes>"
      ]
     },
     "metadata": {},
     "output_type": "display_data"
    }
   ],
   "source": [
    "import matplotlib.pyplot as plt\n",
    "features = []\n",
    "scores = []\n",
    "for k in explanation.explanations[0].attributions[0].feature_attributions:\n",
    "    features.append(k)\n",
    "    scores.append(explanation.explanations[0].attributions[0].feature_attributions[k])\n",
    "features = [x for _, x in sorted(zip(scores, features))]\n",
    "scores = sorted(scores)\n",
    "fig, ax = plt.subplots()\n",
    "fig.set_size_inches(9, 9)\n",
    "ax.barh(features, scores)\n",
    "fig.show()"
   ]
  },
  {
   "cell_type": "markdown",
   "id": "d853ff21-8213-4151-abe6-3139ef4211be",
   "metadata": {},
   "source": [
    "The amount feature contribution is negative, that means that if a transaction has a very high amount, it doesnt mean it is a fraud"
   ]
  },
  {
   "cell_type": "markdown",
   "id": "3bb07f70",
   "metadata": {},
   "source": [
    "---\n",
    "## Remove Resources\n",
    "see notebook \"99 - Cleanup\""
   ]
  }
 ],
 "metadata": {
  "environment": {
   "kernel": "python3",
   "name": "tf2-gpu.2-11.m110",
   "type": "gcloud",
   "uri": "gcr.io/deeplearning-platform-release/tf2-gpu.2-11:m110"
  },
  "kernelspec": {
   "display_name": "Python 3",
   "language": "python",
   "name": "python3"
  },
  "language_info": {
   "codemirror_mode": {
    "name": "ipython",
    "version": 3
   },
   "file_extension": ".py",
   "mimetype": "text/x-python",
   "name": "python",
   "nbconvert_exporter": "python",
   "pygments_lexer": "ipython3",
   "version": "3.10.12"
  }
 },
 "nbformat": 4,
 "nbformat_minor": 5
}
